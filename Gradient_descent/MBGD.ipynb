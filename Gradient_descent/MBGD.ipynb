{
 "cells": [
  {
   "cell_type": "code",
   "execution_count": 13,
   "id": "cdce9888-d49c-448d-9bc6-2b9b0ef60ca7",
   "metadata": {},
   "outputs": [],
   "source": [
    "\n",
    "from sklearn.datasets import load_diabetes\n",
    "\n",
    "import numpy as np\n",
    "from sklearn.linear_model import LinearRegression\n",
    "from sklearn.metrics import r2_score\n",
    "from sklearn.model_selection import train_test_split\n",
    "import random"
   ]
  },
  {
   "cell_type": "code",
   "execution_count": 15,
   "id": "b568d2e4-951f-4761-ad52-43e0ce48ec82",
   "metadata": {},
   "outputs": [],
   "source": [
    "\n",
    "X,y = load_diabetes(return_X_y=True)"
   ]
  },
  {
   "cell_type": "code",
   "execution_count": 17,
   "id": "10727bfc-8a24-45a1-adc5-3b1c45de0d65",
   "metadata": {},
   "outputs": [],
   "source": [
    "\n",
    "X_train,X_test,y_train,y_test = train_test_split(X,y,test_size=0.2,random_state=2)"
   ]
  },
  {
   "cell_type": "code",
   "execution_count": 19,
   "id": "e7528544-8814-4517-86e9-d5c528163b86",
   "metadata": {},
   "outputs": [],
   "source": [
    "\n",
    "from sklearn.linear_model import SGDRegressor"
   ]
  },
  {
   "cell_type": "code",
   "execution_count": 21,
   "id": "ff478788-c110-4b8f-8f04-86fbd96e6e71",
   "metadata": {},
   "outputs": [],
   "source": [
    "\n",
    "sgd = SGDRegressor(learning_rate='constant',eta0=0.1)"
   ]
  },
  {
   "cell_type": "code",
   "execution_count": 23,
   "id": "da70a768-349c-4fb6-b95f-c558b5181622",
   "metadata": {},
   "outputs": [],
   "source": [
    "\n",
    "batch_size = 35\n",
    "\n",
    "for i in range(100):\n",
    "    \n",
    "    idx = random.sample(range(X_train.shape[0]),batch_size)\n",
    "    sgd.partial_fit(X_train[idx],y_train[idx])"
   ]
  },
  {
   "cell_type": "code",
   "execution_count": 25,
   "id": "4fd82863-7c57-48dd-a4a9-d81f50cfef25",
   "metadata": {},
   "outputs": [
    {
     "data": {
      "text/plain": [
       "array([  53.65470393,  -58.21434304,  333.33682474,  255.09550559,\n",
       "         15.67682473,  -38.23148771, -162.41506379,  123.17472728,\n",
       "        317.41955982,  143.86699053])"
      ]
     },
     "execution_count": 25,
     "metadata": {},
     "output_type": "execute_result"
    }
   ],
   "source": [
    "\n",
    "sgd.coef_"
   ]
  },
  {
   "cell_type": "code",
   "execution_count": 27,
   "id": "3a69400c-ed8a-404c-8d9a-7f733e9b2f97",
   "metadata": {},
   "outputs": [
    {
     "data": {
      "text/plain": [
       "array([163.72042191])"
      ]
     },
     "execution_count": 27,
     "metadata": {},
     "output_type": "execute_result"
    }
   ],
   "source": [
    "\n",
    "sgd.intercept_"
   ]
  },
  {
   "cell_type": "code",
   "execution_count": 29,
   "id": "424410b0-1570-4dce-b879-255a4b7269cb",
   "metadata": {},
   "outputs": [],
   "source": [
    "y_pred = sgd.predict(X_test)"
   ]
  },
  {
   "cell_type": "code",
   "execution_count": 31,
   "id": "d4e3a34e-b1f9-43cd-bb4d-8a3399cc4a57",
   "metadata": {},
   "outputs": [
    {
     "data": {
      "text/plain": [
       "0.4071964949886524"
      ]
     },
     "execution_count": 31,
     "metadata": {},
     "output_type": "execute_result"
    }
   ],
   "source": [
    "\n",
    "r2_score(y_test,y_pred)"
   ]
  },
  {
   "cell_type": "code",
   "execution_count": null,
   "id": "98e5608c-5dad-4913-8b6e-fd876f89a430",
   "metadata": {},
   "outputs": [],
   "source": []
  }
 ],
 "metadata": {
  "kernelspec": {
   "display_name": "Python [conda env:base] *",
   "language": "python",
   "name": "conda-base-py"
  },
  "language_info": {
   "codemirror_mode": {
    "name": "ipython",
    "version": 3
   },
   "file_extension": ".py",
   "mimetype": "text/x-python",
   "name": "python",
   "nbconvert_exporter": "python",
   "pygments_lexer": "ipython3",
   "version": "3.12.7"
  }
 },
 "nbformat": 4,
 "nbformat_minor": 5
}
