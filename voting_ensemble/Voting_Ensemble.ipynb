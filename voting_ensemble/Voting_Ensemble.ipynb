{
 "cells": [
  {
   "cell_type": "code",
   "execution_count": 65,
   "id": "ed484bfe-2fc2-4e09-8aa1-ce30fcadeebb",
   "metadata": {},
   "outputs": [],
   "source": [
    "import pandas as pd\n",
    "import numpy as np\n",
    "\n",
    "data_url = \"http://lib.stat.cmu.edu/datasets/boston\"\n",
    "raw_df = pd.read_csv(data_url, sep=r\"\\s+\", skiprows=22, header=None)  # Note the 'r' prefix for raw string\n",
    "data = np.hstack([raw_df.values[::2, :], raw_df.values[1::2, :2]])\n",
    "target = raw_df.values[1::2, 2]"
   ]
  },
  {
   "cell_type": "code",
   "execution_count": 66,
   "id": "473678d8-dfa5-41d0-acfd-4a41d9a1e609",
   "metadata": {},
   "outputs": [],
   "source": [
    "X = data\n",
    "y = target"
   ]
  },
  {
   "cell_type": "code",
   "execution_count": 67,
   "id": "e91165ff-c741-49ea-a450-a57c64d5d4f9",
   "metadata": {},
   "outputs": [
    {
     "data": {
      "text/plain": [
       "(506, 13)"
      ]
     },
     "execution_count": 67,
     "metadata": {},
     "output_type": "execute_result"
    }
   ],
   "source": [
    "X.shape"
   ]
  },
  {
   "cell_type": "code",
   "execution_count": 68,
   "id": "da784f70-63bd-4bfc-9602-708840e3d423",
   "metadata": {},
   "outputs": [
    {
     "data": {
      "text/plain": [
       "(506,)"
      ]
     },
     "execution_count": 68,
     "metadata": {},
     "output_type": "execute_result"
    }
   ],
   "source": [
    "y.shape"
   ]
  },
  {
   "cell_type": "code",
   "execution_count": 73,
   "id": "2c274df9-b544-49c0-b911-3230db6e15c5",
   "metadata": {},
   "outputs": [],
   "source": [
    "from sklearn.linear_model import LinearRegression\n",
    "from sklearn.tree import DecisionTreeRegressor\n",
    "from sklearn.svm import SVR\n",
    "from sklearn.model_selection import cross_val_score"
   ]
  },
  {
   "cell_type": "code",
   "execution_count": 37,
   "id": "b34d7a12-9e52-443f-a19d-d9e0f7134296",
   "metadata": {},
   "outputs": [],
   "source": [
    "lr = LinearRegression()\n",
    "dt = DecisionTreeRegressor\n",
    "svr = SVR()"
   ]
  },
  {
   "cell_type": "code",
   "execution_count": 39,
   "id": "7aa73e98-24e7-4d72-870b-7502616f8601",
   "metadata": {},
   "outputs": [],
   "source": [
    "estimators = [('lr',lr), ('dt', dt),('svr', svr)]"
   ]
  },
  {
   "cell_type": "code",
   "execution_count": 41,
   "id": "c04a88e2-d4d1-4b84-8305-b8d29c940cf8",
   "metadata": {},
   "outputs": [
    {
     "name": "stdout",
     "output_type": "stream",
     "text": [
      "lr 0.2\n",
      "dt -0.23\n",
      "svr -0.41\n"
     ]
    }
   ],
   "source": [
    "for estimator in estimators:\n",
    "    scores = cross_val_score(estimator[1], X, y, scoring='r2', cv=10)\n",
    "    print(estimator[0], np.round(np.mean(scores), 2))"
   ]
  },
  {
   "cell_type": "code",
   "execution_count": 43,
   "id": "bc36a530-3d54-4668-884c-62a68ae19843",
   "metadata": {},
   "outputs": [],
   "source": [
    "from sklearn.ensemble import VotingRegressor"
   ]
  },
  {
   "cell_type": "code",
   "execution_count": 49,
   "id": "c6b98985-6448-42ec-aa7e-e3dda98fcd6f",
   "metadata": {},
   "outputs": [
    {
     "name": "stdout",
     "output_type": "stream",
     "text": [
      "Voting Regressor:  0.46\n"
     ]
    }
   ],
   "source": [
    "vr = VotingRegressor(estimators)\n",
    "scores = cross_val_score(vr,X,y,scoring = 'r2', cv=10)\n",
    "print('Voting Regressor: ', np.round(np.mean(scores),2))"
   ]
  },
  {
   "cell_type": "code",
   "execution_count": 51,
   "id": "11b3add0-72ed-4a3a-b9b6-29e02459a953",
   "metadata": {},
   "outputs": [
    {
     "name": "stdout",
     "output_type": "stream",
     "text": [
      "For i=1,j=1,k=1 0.41\n",
      "For i=1,j=1,k=2 0.36\n",
      "For i=1,j=1,k=3 0.28\n",
      "For i=1,j=2,k=1 0.42\n",
      "For i=1,j=2,k=2 0.4\n",
      "For i=1,j=2,k=3 0.36\n",
      "For i=1,j=3,k=1 0.35\n",
      "For i=1,j=3,k=2 0.38\n",
      "For i=1,j=3,k=3 0.36\n",
      "For i=2,j=1,k=1 0.45\n",
      "For i=2,j=1,k=2 0.42\n",
      "For i=2,j=1,k=3 0.35\n",
      "For i=2,j=2,k=1 0.45\n",
      "For i=2,j=2,k=2 0.46\n",
      "For i=2,j=2,k=3 0.41\n",
      "For i=2,j=3,k=1 0.41\n",
      "For i=2,j=3,k=2 0.44\n",
      "For i=2,j=3,k=3 0.41\n",
      "For i=3,j=1,k=1 0.44\n",
      "For i=3,j=1,k=2 0.43\n",
      "For i=3,j=1,k=3 0.39\n",
      "For i=3,j=2,k=1 0.44\n",
      "For i=3,j=2,k=2 0.45\n",
      "For i=3,j=2,k=3 0.43\n",
      "For i=3,j=3,k=1 0.44\n",
      "For i=3,j=3,k=2 0.43\n",
      "For i=3,j=3,k=3 0.42\n"
     ]
    }
   ],
   "source": [
    "for i in range(1,4):\n",
    "  for j in range(1,4):\n",
    "    for k in range(1,4):\n",
    "      vr = VotingRegressor(estimators,weights=[i,j,k])\n",
    "      scores = cross_val_score(vr,X,y,scoring='r2',cv=10)\n",
    "      print(\"For i={},j={},k={}\".format(i,j,k),np.round(np.mean(scores),2))"
   ]
  },
  {
   "cell_type": "code",
   "execution_count": 53,
   "id": "d8ae52e1-50ce-4dd8-a525-21e146805d33",
   "metadata": {},
   "outputs": [],
   "source": [
    "dt1 = DecisionTreeRegressor(max_depth=1)\n",
    "dt2 = DecisionTreeRegressor(max_depth=3)\n",
    "dt3 = DecisionTreeRegressor(max_depth=5)\n",
    "dt4 = DecisionTreeRegressor(max_depth=7)\n",
    "dt5 = DecisionTreeRegressor(max_depth=None)"
   ]
  },
  {
   "cell_type": "code",
   "execution_count": 56,
   "id": "52886b6a-bfa1-46e9-9a69-1ece515f68aa",
   "metadata": {},
   "outputs": [],
   "source": [
    "estimators = [('dt1',dt1),('dt2',dt2),('dt3',dt3),('dt4',dt4),('dt5',dt5)]"
   ]
  },
  {
   "cell_type": "code",
   "execution_count": 58,
   "id": "35de5504-0bf4-4481-be9c-c03ed8bb799c",
   "metadata": {},
   "outputs": [
    {
     "name": "stdout",
     "output_type": "stream",
     "text": [
      "dt1 -0.85\n",
      "dt2 -0.11\n",
      "dt3 0.03\n",
      "dt4 0.08\n",
      "dt5 -0.14\n"
     ]
    }
   ],
   "source": [
    "for estimator in estimators:\n",
    "  scores = cross_val_score(estimator[1],X,y,scoring='r2',cv=10)\n",
    "  print(estimator[0],np.round(np.mean(scores),2))"
   ]
  },
  {
   "cell_type": "code",
   "execution_count": 60,
   "id": "1dc38f5e-eeaa-4e4e-a1df-840c7d1196cf",
   "metadata": {},
   "outputs": [
    {
     "name": "stdout",
     "output_type": "stream",
     "text": [
      "Voting Regressor 0.18\n"
     ]
    }
   ],
   "source": [
    "vr = VotingRegressor(estimators)\n",
    "scores = cross_val_score(vr,X,y,scoring='r2',cv=10)\n",
    "print(\"Voting Regressor\",np.round(np.mean(scores),2))"
   ]
  },
  {
   "cell_type": "code",
   "execution_count": null,
   "id": "8732a3bb-88f5-4b0e-ba20-e6743edc2e56",
   "metadata": {},
   "outputs": [],
   "source": []
  },
  {
   "cell_type": "code",
   "execution_count": null,
   "id": "a5804656-ff2f-421a-a388-7b55b5ecffc2",
   "metadata": {},
   "outputs": [],
   "source": []
  }
 ],
 "metadata": {
  "kernelspec": {
   "display_name": "Python [conda env:base] *",
   "language": "python",
   "name": "conda-base-py"
  },
  "language_info": {
   "codemirror_mode": {
    "name": "ipython",
    "version": 3
   },
   "file_extension": ".py",
   "mimetype": "text/x-python",
   "name": "python",
   "nbconvert_exporter": "python",
   "pygments_lexer": "ipython3",
   "version": "3.12.7"
  }
 },
 "nbformat": 4,
 "nbformat_minor": 5
}
